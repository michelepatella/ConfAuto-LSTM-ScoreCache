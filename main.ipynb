{
 "cells": [
  {
   "metadata": {},
   "cell_type": "markdown",
   "source": "# Confident-aware LSTM-based Intelligent Caching",
   "id": "56b3a980af97f3dc"
  },
  {
   "metadata": {},
   "cell_type": "markdown",
   "source": "**This project explores the use of a Long Short-Term Memory (LSTM) network combined with Confidence Intervals (CIs) for an intelligent caching system implemented in Redis. The aim is to improve prefetching, TTL assignment, and eviction policies, providing a framework that outperforms traditional baseline strategies.**",
   "id": "d6cb020bbd86f0f0"
  },
  {
   "metadata": {},
   "cell_type": "markdown",
   "source": "## 1. Data Generation",
   "id": "24e0481e06a8ee89"
  },
  {
   "metadata": {},
   "cell_type": "markdown",
   "source": [
    "Before training, evaluating or running experiments, we need to **generate synthetic data** on which to work on. Data should reflect the nature of the accesses in real-world systems, which is often characterized by:\n",
    "- **Skewed popularity**: Some objects are more popular than others.\n",
    "- **Locality**: Some objects are correlated and are often accessed in sequence.\n",
    "- **Periodic access patterns**: Objects are accessed in recurring time intervals.\n",
    "- **Burstiness periods**: Sudden spikes in access frequency occur during short time periods.\n",
    "\n",
    "To simulate this behavior, we generate two types of synthetic access patterns:\n",
    "\n",
    "- **Spatial accesses**: Governed by Zipf distribution (the first keys are more likely to be used than later ones) and locality (after accessing to a certain key, the neighboring ones are more likely to be accessed also). The first access always targets a popular key, then the probability of accessing to a popular key is 30%. After the first access, the probability to access to a neighboring key is 70%.\n",
    "- **Temporal accesses**: Modeled by using a combination of periodic and bursty patterns. While some time periods follow predictable, recurring intervals, others exhibit intervals of sudden, high-frequency access.\n",
    "\n",
    "For doing more realistic experiments, we generate both a **static** and **dynamic dataset**. The first assumes key popularities are fixed over time (i.e., the Zipf parameter remains constant), whereas the second simulates changes in key popularities over time (i.e., the Zipf parameter varies).\n",
    "\n",
    "The final datasets are composed by the following columns:\n",
    "- `id`: The ID of the current request.\n",
    "- `delta_time`: The temporal distance between the current request and the previous one.\n",
    "- `freq_last_10`: The relative frequency of the current requested key in the last 10 accesses.\n",
    "- `freq_last_100`: The relative frequency of the current requested key in the last 100 accesses.\n",
    "- `freq_last_1000`: The relative frequency of the current requested key in the last 1000 accesses.\n",
    "- `request`: The ID of the requested key."
   ],
   "id": "316e5eb3cc031af8"
  },
  {
   "metadata": {},
   "cell_type": "code",
   "outputs": [],
   "execution_count": null,
   "source": [
    "from main import config_settings\n",
    "from data_generation import data_generation\n",
    "\n",
    "data_generation(config_settings)"
   ],
   "id": "47ae5bdba3327243"
  },
  {
   "metadata": {},
   "cell_type": "markdown",
   "source": "## 2. Data Preprocessing",
   "id": "129b4d24fc8aa93"
  },
  {
   "metadata": {},
   "cell_type": "markdown",
   "source": [
    "**Data preprocessing** aims to prepare data for being used in the next steps. Three processes are performed here:\n",
    "- **Duplicates removal**: Removes all the duplicates based on one or more columns. In that case, `id` duplicates are removed from the dataset.\n",
    "- **Missing values removal**: Removes all rows having missing values from the dataset.\n",
    "- **Standardization**: Standardizes one or more columns, avoiding too large value distances between data in a given column. In that case, we standardize `id`, `delta_time`, `freq_last_10`, `freq_last_100`, and `freq_last_1000`.\n",
    "\n",
    "Some rows of the final (static) dataset are shown below."
   ],
   "id": "e65b9a7ee5ffc42a"
  },
  {
   "metadata": {},
   "cell_type": "code",
   "outputs": [],
   "execution_count": null,
   "source": [
    "from data_preprocessing import data_preprocessing\n",
    "\n",
    "data_preprocessing(config_settings)"
   ],
   "id": "35ed2ac8b50a0bc0"
  },
  {
   "metadata": {
    "import_data_from_file": {
     "variable_name": "df_1"
    }
   },
   "cell_type": "code",
   "outputs": [
    {
     "data": {
      "text/plain": [
       "             id  delta_time  freq_last_10  freq_last_100  freq_last_1000  \\\n",
       "0     -1.732020    3.275748     -0.754229      -1.037309       -1.175211   \n",
       "1     -1.731958    0.103608     -0.754229      -1.037309       -1.175211   \n",
       "2     -1.731896    0.600755     -0.754229      -1.037309       -1.175211   \n",
       "3     -1.731834    1.289181      2.515228       6.262462        7.637087   \n",
       "4     -1.731772    1.343766     -0.754229      -1.037309       -1.175211   \n",
       "...         ...         ...           ...            ...             ...   \n",
       "79995  3.216387   -0.085736     -0.754229      -0.599323        0.093760   \n",
       "79996  3.216449   -0.085769     -0.754229       0.495643        0.120197   \n",
       "79997  3.216511   -0.085783     -0.754229       0.714636       -0.144172   \n",
       "79998  3.216573   -0.085428     -0.754229      -0.818316       -1.043026   \n",
       "79999  3.216635   -0.085279     -0.754229      -1.037309       -0.937279   \n",
       "\n",
       "       request  \n",
       "0            5  \n",
       "1           13  \n",
       "2           12  \n",
       "3           13  \n",
       "4           14  \n",
       "...        ...  \n",
       "79995        6  \n",
       "79996        7  \n",
       "79997        8  \n",
       "79998       42  \n",
       "79999       43  \n",
       "\n",
       "[80000 rows x 6 columns]"
      ],
      "text/html": [
       "<div>\n",
       "<style scoped>\n",
       "    .dataframe tbody tr th:only-of-type {\n",
       "        vertical-align: middle;\n",
       "    }\n",
       "\n",
       "    .dataframe tbody tr th {\n",
       "        vertical-align: top;\n",
       "    }\n",
       "\n",
       "    .dataframe thead th {\n",
       "        text-align: right;\n",
       "    }\n",
       "</style>\n",
       "<table border=\"1\" class=\"dataframe\">\n",
       "  <thead>\n",
       "    <tr style=\"text-align: right;\">\n",
       "      <th></th>\n",
       "      <th>id</th>\n",
       "      <th>delta_time</th>\n",
       "      <th>freq_last_10</th>\n",
       "      <th>freq_last_100</th>\n",
       "      <th>freq_last_1000</th>\n",
       "      <th>request</th>\n",
       "    </tr>\n",
       "  </thead>\n",
       "  <tbody>\n",
       "    <tr>\n",
       "      <th>0</th>\n",
       "      <td>-1.732020</td>\n",
       "      <td>3.275748</td>\n",
       "      <td>-0.754229</td>\n",
       "      <td>-1.037309</td>\n",
       "      <td>-1.175211</td>\n",
       "      <td>5</td>\n",
       "    </tr>\n",
       "    <tr>\n",
       "      <th>1</th>\n",
       "      <td>-1.731958</td>\n",
       "      <td>0.103608</td>\n",
       "      <td>-0.754229</td>\n",
       "      <td>-1.037309</td>\n",
       "      <td>-1.175211</td>\n",
       "      <td>13</td>\n",
       "    </tr>\n",
       "    <tr>\n",
       "      <th>2</th>\n",
       "      <td>-1.731896</td>\n",
       "      <td>0.600755</td>\n",
       "      <td>-0.754229</td>\n",
       "      <td>-1.037309</td>\n",
       "      <td>-1.175211</td>\n",
       "      <td>12</td>\n",
       "    </tr>\n",
       "    <tr>\n",
       "      <th>3</th>\n",
       "      <td>-1.731834</td>\n",
       "      <td>1.289181</td>\n",
       "      <td>2.515228</td>\n",
       "      <td>6.262462</td>\n",
       "      <td>7.637087</td>\n",
       "      <td>13</td>\n",
       "    </tr>\n",
       "    <tr>\n",
       "      <th>4</th>\n",
       "      <td>-1.731772</td>\n",
       "      <td>1.343766</td>\n",
       "      <td>-0.754229</td>\n",
       "      <td>-1.037309</td>\n",
       "      <td>-1.175211</td>\n",
       "      <td>14</td>\n",
       "    </tr>\n",
       "    <tr>\n",
       "      <th>...</th>\n",
       "      <td>...</td>\n",
       "      <td>...</td>\n",
       "      <td>...</td>\n",
       "      <td>...</td>\n",
       "      <td>...</td>\n",
       "      <td>...</td>\n",
       "    </tr>\n",
       "    <tr>\n",
       "      <th>79995</th>\n",
       "      <td>3.216387</td>\n",
       "      <td>-0.085736</td>\n",
       "      <td>-0.754229</td>\n",
       "      <td>-0.599323</td>\n",
       "      <td>0.093760</td>\n",
       "      <td>6</td>\n",
       "    </tr>\n",
       "    <tr>\n",
       "      <th>79996</th>\n",
       "      <td>3.216449</td>\n",
       "      <td>-0.085769</td>\n",
       "      <td>-0.754229</td>\n",
       "      <td>0.495643</td>\n",
       "      <td>0.120197</td>\n",
       "      <td>7</td>\n",
       "    </tr>\n",
       "    <tr>\n",
       "      <th>79997</th>\n",
       "      <td>3.216511</td>\n",
       "      <td>-0.085783</td>\n",
       "      <td>-0.754229</td>\n",
       "      <td>0.714636</td>\n",
       "      <td>-0.144172</td>\n",
       "      <td>8</td>\n",
       "    </tr>\n",
       "    <tr>\n",
       "      <th>79998</th>\n",
       "      <td>3.216573</td>\n",
       "      <td>-0.085428</td>\n",
       "      <td>-0.754229</td>\n",
       "      <td>-0.818316</td>\n",
       "      <td>-1.043026</td>\n",
       "      <td>42</td>\n",
       "    </tr>\n",
       "    <tr>\n",
       "      <th>79999</th>\n",
       "      <td>3.216635</td>\n",
       "      <td>-0.085279</td>\n",
       "      <td>-0.754229</td>\n",
       "      <td>-1.037309</td>\n",
       "      <td>-0.937279</td>\n",
       "      <td>43</td>\n",
       "    </tr>\n",
       "  </tbody>\n",
       "</table>\n",
       "<p>80000 rows × 6 columns</p>\n",
       "</div>"
      ]
     },
     "execution_count": 1,
     "metadata": {},
     "output_type": "execute_result"
    }
   ],
   "source": "",
   "id": "aa4ab2eef2b9c36a",
   "execution_count": null
  },
  {
   "metadata": {},
   "cell_type": "markdown",
   "source": "## 3. Validation",
   "id": "ca20af10fe5fc945"
  },
  {
   "metadata": {},
   "cell_type": "markdown",
   "source": "**Validation** aims at finding the **best hyperparameters** to be used for training the final model. After defining the hyperparameter search space, we compute a **Grid Search** to explore all possible combinations. For each combination we perform a **Time Series Cross-Validation**, useful to avoid data leakage by preserving the temporal order of events. **Early Stopping** is applied while training on each fold, stopping the process when the validation starts to decrease. Whenever a new hyperparameter combination achieves the best average validation loss seen so far, it is saved as the new best. In the end, we obtain the best hyperparameters (i.e., those yielding the lowest average validation loss).",
   "id": "5af900baf47454ce"
  },
  {
   "metadata": {},
   "cell_type": "code",
   "outputs": [],
   "execution_count": null,
   "source": [
    "from validation import validation\n",
    "\n",
    "config_settings = validation(config_settings)"
   ],
   "id": "7d48318b7d596909"
  },
  {
   "metadata": {},
   "cell_type": "markdown",
   "source": "## 4. Training",
   "id": "c8c4800b1e3fa860"
  },
  {
   "metadata": {},
   "cell_type": "markdown",
   "source": "After identifying the best hyperparameters, the **final model** is obtained by **training** on the whole training set using those optimal values. Once the training is completed, the model is saved.",
   "id": "4446d0f383566966"
  },
  {
   "metadata": {},
   "cell_type": "code",
   "outputs": [],
   "execution_count": null,
   "source": [
    "from training import training\n",
    "\n",
    "training(config_settings)"
   ],
   "id": "866bbc3c59b8b420"
  },
  {
   "metadata": {},
   "cell_type": "markdown",
   "source": "## 5. Testing",
   "id": "61c1e26af4230190"
  },
  {
   "metadata": {},
   "cell_type": "markdown",
   "source": [
    "The trained model is **evaluated** on the testing set. The evaluation **metrics** computed are:\n",
    "- **Average loss**: Cross Entropy.\n",
    "- **Average loss per class**: Cross Entropy.\n",
    "- **Class report**: Precision, Recall, and F1 for each class.\n",
    "- **Confusion matrix**: Summarizes the number of correct and incorrect prediction for each class.\n",
    "- **Top-k accuracy**: How many times the target is predicted in the first k most probable keys.\n",
    "- **Kappa statistic**: Compares the model with a random one.\n",
    "\n",
    "Additionally, **costs** associated with the two types of errors (i.e., false positive and false negative) are taken into account. The total cost is computed as a percentage by multiplying the number of each error type by its corresponding cost."
   ],
   "id": "ab758b9da47efb3a"
  },
  {
   "metadata": {},
   "cell_type": "code",
   "outputs": [],
   "execution_count": null,
   "source": [
    "from testing import testing\n",
    "\n",
    "avg_loss, avg_loss_per_class, metrics, cost_perc = testing(config_settings)"
   ],
   "id": "54db662bb3120624"
  }
 ],
 "metadata": {
  "kernelspec": {
   "display_name": "Python 3",
   "language": "python",
   "name": "python3"
  },
  "language_info": {
   "codemirror_mode": {
    "name": "ipython",
    "version": 2
   },
   "file_extension": ".py",
   "mimetype": "text/x-python",
   "name": "python",
   "nbconvert_exporter": "python",
   "pygments_lexer": "ipython2",
   "version": "2.7.6"
  }
 },
 "nbformat": 4,
 "nbformat_minor": 5
}
